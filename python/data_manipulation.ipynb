{
 "metadata": {
  "name": "data_manipulation"
 },
 "nbformat": 3,
 "nbformat_minor": 0,
 "worksheets": [
  {
   "cells": [
    {
     "cell_type": "code",
     "collapsed": false,
     "input": [
      "import pandas as pd\n",
      "import numpy as np\n",
      "\n",
      "# How to populate csv files into data frames\n",
      "\n",
      "dtype_dict = {'bathrooms':float, 'waterfront':int, 'sqft_above':int, 'sqft_living15':float, 'grade':int, 'yr_renovated':int, 'price':float, 'bedrooms':float, 'zipcode':str, 'long':float, 'sqft_lot15':float, 'sqft_living':float, 'floors':str, 'condition':int, 'lat':float, 'date':str, 'sqft_basement':int, 'yr_built':int, 'id':str, 'sqft_lot':int, 'view':int}\n",
      "df_house_data= pd.read_csv(\"kc_house_data.csv\",dtype=dtype_dict)\n",
      "df_house_test_data=pd.read_csv(\"kc_house_test_data.csv\",dtype=dtype_dict)\n",
      "df_house_train_data=pd.read_csv(\"kc_house_train_data.csv\",dtype=dtype_dict)\n",
      "\n",
      "# Subsetting dataframes\n",
      "## loc and iloc for selecting ranges\n",
      "df = df_house_data.loc[:,(\"bathrooms\",\"waterfront\")]\n",
      "df = df_house_data[df_house_data[\"bathrooms\"] > 3]\n",
      "\n",
      "# Dealing with NAs and NAN\n",
      "## One has to be mindful that in python (and numpy), the nan's don\u2019t compare equal, but None's do. \n",
      "## Note that Pandas/numpy uses the fact that np.nan != np.nan, and treats None like np.nan.\n",
      "## choose entries that are not NaN\n",
      "df = df_house_data.notnull()\n",
      "df = df_house_data.isnull()\n",
      "\n",
      "# Applying functoins accross row wise\n",
      "f = lambda x : (x[\"bathrooms\"]/x[\"waterfront\"])\n",
      "df = df_house_data.loc[:,(\"bathrooms\",\"waterfront\")].apply(f,axis=1)\n",
      "## Change axis to 0 for applying column wise\n",
      "\n",
      "# Concat and joins\n",
      "df1 = df_house_data.loc[:,(\"bathrooms\",\"waterfront\")]\n",
      "df1.index = range(df1.shape[0])\n",
      "df2 = df_house_data.loc[:,(\"bathrooms\",\"waterfront\")]\n",
      "df2.index = range(df1.shape[0],df2.shape[0]+df1.shape[0],1)\n",
      "## union of rows\n",
      "concat_df = pd.concat([df1,df2])\n",
      "## use ignore_index for discarding index\n",
      "\n",
      "## outer and inner join\n",
      "concat_df = pd.concat([df1,df2],join=\"outer\",axis=1)\n",
      "\n"
     ],
     "language": "python",
     "metadata": {},
     "outputs": [
      {
       "output_type": "pyout",
       "prompt_number": 9,
       "text": [
        "(21613,)"
       ]
      }
     ],
     "prompt_number": 9
    },
    {
     "cell_type": "code",
     "collapsed": false,
     "input": [
      "from sklearn.linear_model import LinearRegression\n",
      "\n",
      "df_train_mat = np.matrix(df_house_train_data.loc[:,(\"sqft_living\",\"price\")])\n",
      "df_test_mat = np.matrix(df_house_test_data.loc[:,(\"sqft_living\",\"price\")])\n",
      "\n",
      "\n",
      "\n",
      "\n",
      "# Set up regression using scikit ??\n"
     ],
     "language": "python",
     "metadata": {},
     "outputs": [],
     "prompt_number": 3
    },
    {
     "cell_type": "code",
     "collapsed": false,
     "input": [],
     "language": "python",
     "metadata": {},
     "outputs": []
    }
   ],
   "metadata": {}
  }
 ]
}