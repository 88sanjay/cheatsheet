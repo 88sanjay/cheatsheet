{
 "metadata": {
  "name": "data_manipulation"
 },
 "nbformat": 3,
 "nbformat_minor": 0,
 "worksheets": [
  {
   "cells": [
    {
     "cell_type": "code",
     "collapsed": false,
     "input": [
      "import pandas as pd\n",
      "import numpy as np\n",
      "\n",
      "# How to populate csv files into data frames\n",
      "\n",
      "dtype_dict = {'bathrooms':float, 'waterfront':int, 'sqft_above':int, 'sqft_living15':float, 'grade':int, 'yr_renovated':int, 'price':float, 'bedrooms':float, 'zipcode':str, 'long':float, 'sqft_lot15':float, 'sqft_living':float, 'floors':str, 'condition':int, 'lat':float, 'date':str, 'sqft_basement':int, 'yr_built':int, 'id':str, 'sqft_lot':int, 'view':int}\n",
      "df_house_data= pd.read_csv(\"kc_house_data.csv\",dtype=dtype_dict)\n",
      "df_house_test_data=pd.read_csv(\"kc_house_test_data.csv\",dtype=dtype_dict)\n",
      "df_house_train_data=pd.read_csv(\"kc_house_train_data.csv\",dtype=dtype_dict)\n",
      "\n",
      "\n",
      "# Subsetting dataframes\n",
      "## loc and iloc for selecting ranges\n",
      "df = df_house_data.loc[:,(\"bathrooms\",\"waterfront\")]\n",
      "df = df_house_data[df_house_data[\"bathrooms\"] > 3]\n",
      "\n",
      "\n",
      "# Dealing with NAs and NAN\n",
      "## One has to be mindful that in python (and numpy), the nan's don\u2019t compare equal, but None's do. \n",
      "## Note that Pandas/numpy uses the fact that np.nan != np.nan, and treats None like np.nan.\n",
      "## choose entries that are not NaN\n",
      "df = df_house_data.notnull()\n",
      "df = df_house_data.isnull()\n",
      "\n",
      "\n",
      "# Applying functoins accross row wise\n",
      "f = lambda x : (x[\"bathrooms\"]/x[\"waterfront\"])\n",
      "df = df_house_data.loc[:,(\"bathrooms\",\"waterfront\")].apply(f,axis=1)\n",
      "## Change axis to 0 for applying column wise\n",
      "\n",
      "\n",
      "# Concat and joins and groupby\n",
      "df1 = df_house_data.loc[:,(\"bathrooms\",\"waterfront\")]\n",
      "df1.index = range(df1.shape[0])\n",
      "df2 = df_house_data.loc[:,(\"bathrooms\",\"waterfront\")]\n",
      "df2.index = range(df1.shape[0],df2.shape[0]+df1.shape[0],1)\n",
      "## union of rows\n",
      "concat_df = pd.concat([df1,df2])\n",
      "## use ignore_index for discarding index\n",
      "## outer and inner join\n",
      "concat_df = pd.concat([df1,df2],join=\"outer\",axis=1)\n",
      "## group by\n",
      "grouped = df1.groupby([\"bathrooms\"])\n",
      "grouped_stats=grouped.describe()\n",
      "grouped_aggregation=grouped.agg([np.mean,np.std,np.median,len])\n",
      "## apply more complex function to each group\n",
      "grouped = df_house_data.groupby([\"bathrooms\"])\n",
      "union_adv_agg = []\n",
      "for name,group in grouped :\n",
      "    union_adv_agg.append(group.apply(lambda x:x[\"waterfront\"]+x[\"sqft_above\"],axis=1))\n"
     ],
     "language": "python",
     "metadata": {},
     "outputs": [
      {
       "output_type": "pyout",
       "prompt_number": 29,
       "text": [
        "30"
       ]
      }
     ],
     "prompt_number": 29
    },
    {
     "cell_type": "code",
     "collapsed": false,
     "input": [
      "# Regular Expressiona\n",
      "\n",
      "import re\n",
      "\n",
      "print(re.split(r'\\s*',\"Here are some        words\")) # split line on space or string of spaces\n",
      "print(re.split(r'(\\s*)',\"Here are some        words\")) # group and include all the spaces\n",
      "print(re.split(r'[a-fA-F][a-fA-F]',\"AbhDjDajgkdljadzhhkxsh\")) # split on ranges and tuples of ranges\n",
      "\n",
      "print(re.findall(r'\\d{1,4}\\s+\\w+\\s+Drive',\"Sanjay Kumar, 384 Aldergrove Drive, Ontario\")) # look for addresses\n",
      "# \\d - Numbers \\D anything but numbers\n",
      "# \\w - Numbers or letters\n",
      "# * for 0 or more\n",
      "# + 1 or more\n",
      "# ? 0 or 1 of .. \n",
      "# {1-5} 1 - 5 more\n",
      "\n",
      "\n",
      "#TODO re.match / re.search\n",
      "\n"
     ],
     "language": "python",
     "metadata": {},
     "outputs": [
      {
       "output_type": "stream",
       "stream": "stdout",
       "text": [
        "['Here', 'are', 'some', 'words']\n",
        "['Here', ' ', 'are', ' ', 'some', '        ', 'words']\n",
        "['', 'hDj', 'jgkdlj', 'zhhkxsh']\n",
        "[]\n"
       ]
      }
     ],
     "prompt_number": 67
    },
    {
     "cell_type": "code",
     "collapsed": false,
     "input": [
      "type()"
     ],
     "language": "python",
     "metadata": {},
     "outputs": [
      {
       "output_type": "pyout",
       "prompt_number": 21,
       "text": [
        "pandas.core.frame.DataFrame"
       ]
      }
     ],
     "prompt_number": 21
    },
    {
     "cell_type": "code",
     "collapsed": false,
     "input": [],
     "language": "python",
     "metadata": {},
     "outputs": []
    }
   ],
   "metadata": {}
  }
 ]
}